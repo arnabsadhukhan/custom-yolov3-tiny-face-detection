{
  "nbformat": 4,
  "nbformat_minor": 0,
  "metadata": {
    "colab": {
      "name": "custom_yolov3-tiny_training.ipynb",
      "provenance": [],
      "collapsed_sections": []
    },
    "kernelspec": {
      "name": "python3",
      "display_name": "Python 3"
    },
    "accelerator": "GPU"
  },
  "cells": [
    {
      "cell_type": "code",
      "metadata": {
        "id": "aXquYJJHccbv",
        "colab_type": "code",
        "colab": {}
      },
      "source": [
        "import numpy as np\n",
        "import time\n",
        "import os\n",
        "from tqdm import tqdm\n",
        "import cv2\n",
        "from google.colab.patches import cv2_imshow\n",
        "import json\n",
        "import requests"
      ],
      "execution_count": 7,
      "outputs": []
    },
    {
      "cell_type": "markdown",
      "metadata": {
        "id": "Yld5y3SpSk9M",
        "colab_type": "text"
      },
      "source": [
        "upload face json\n"
      ]
    },
    {
      "cell_type": "code",
      "metadata": {
        "id": "nCZuZGHXe_EA",
        "colab_type": "code",
        "colab": {}
      },
      "source": [
        "data = []\n",
        "with open('/content/face_detection.json') as f:\n",
        "    for line in f:\n",
        "        data.append(json.loads(line))\n",
        "data"
      ],
      "execution_count": null,
      "outputs": []
    },
    {
      "cell_type": "markdown",
      "metadata": {
        "id": "b2HB4laiz8Kq",
        "colab_type": "text"
      },
      "source": [
        "CLONE THE GIT REPO"
      ]
    },
    {
      "cell_type": "code",
      "metadata": {
        "id": "XSuHQZNyf1TG",
        "colab_type": "code",
        "colab": {
          "base_uri": "https://localhost:8080/",
          "height": 131
        },
        "outputId": "291a478a-e6d1-4bda-ccf1-aa6ef6a2c9c0"
      },
      "source": [
        "!git clone https://github.com/AlexeyAB/darknet.git"
      ],
      "execution_count": 4,
      "outputs": [
        {
          "output_type": "stream",
          "text": [
            "Cloning into 'darknet'...\n",
            "remote: Enumerating objects: 14, done.\u001b[K\n",
            "remote: Counting objects: 100% (14/14), done.\u001b[K\n",
            "remote: Compressing objects: 100% (14/14), done.\u001b[K\n",
            "remote: Total 13728 (delta 2), reused 2 (delta 0), pack-reused 13714\u001b[K\n",
            "Receiving objects: 100% (13728/13728), 12.37 MiB | 12.26 MiB/s, done.\n",
            "Resolving deltas: 100% (9356/9356), done.\n"
          ],
          "name": "stdout"
        }
      ]
    },
    {
      "cell_type": "markdown",
      "metadata": {
        "id": "fRWyVRWE0BFr",
        "colab_type": "text"
      },
      "source": [
        "STEPS:"
      ]
    },
    {
      "cell_type": "markdown",
      "metadata": {
        "id": "EgHOSLjJT3SU",
        "colab_type": "text"
      },
      "source": [
        "\n",
        "1.   **Create file yolo-obj.cfg with the same content as in yolov4-custom.cfg**\n",
        "2.   **Create file obj.names in the directory build\\darknet\\x64\\data\\, with objects names - each in new line**\n",
        "3.   **Create file obj.data in the directory build\\darknet\\x64\\data\\, containing (where classes = number of objects)**\n",
        "4.   **Put image-files (.jpg) of your objects in the directory build\\darknet\\x64\\data\\obj\\**\n",
        "\n"
      ]
    },
    {
      "cell_type": "markdown",
      "metadata": {
        "id": "NVVdz9hM0GhB",
        "colab_type": "text"
      },
      "source": [
        "PUTTING ALL IMAGES AND LABELS IN /content/darknet/build/darknet/x64/data/obj FOLDER"
      ]
    },
    {
      "cell_type": "code",
      "metadata": {
        "id": "yofuGqOG9aHS",
        "colab_type": "code",
        "colab": {
          "base_uri": "https://localhost:8080/",
          "height": 33
        },
        "outputId": "39ce173f-ef82-4baa-f9fc-1c6e5bea8f83"
      },
      "source": [
        "d = '/content/darknet/build/darknet/x64/data/obj'\n",
        "try:  \n",
        "  os.mkdir(d)\n",
        "except:pass\n",
        "count=0\n",
        "\n",
        "count =0\n",
        "for ob in tqdm(data[:100]):\n",
        "  img = cv2.imdecode(np.array(bytearray(requests.get(ob['content']).content),np.uint8),-1)\n",
        "  if img.shape[2]==4:\n",
        "    continue\n",
        "  count+=1\n",
        "  image_anotate=[]\n",
        "  f =open(f\"{d}/{count}.txt\",'a') \n",
        "  for content in ob['annotation']:\n",
        "    x,y = content['points'][0].values()\n",
        "    w,h = content['points'][1].values()\n",
        "    f.write(f'0 {x+(w-x)/2} {y+(h-y)/2} {w-x} {h-y}\\n')\n",
        "  f.close()\n",
        "  cv2.imwrite(f'/{d}/{count}.jpg',img)"
      ],
      "execution_count": 8,
      "outputs": [
        {
          "output_type": "stream",
          "text": [
            "100%|██████████| 100/100 [00:51<00:00,  1.95it/s]\n"
          ],
          "name": "stderr"
        }
      ]
    },
    {
      "cell_type": "markdown",
      "metadata": {
        "id": "LSmbcPfpiBFS",
        "colab_type": "text"
      },
      "source": [
        "Create file train.txt in directory build\\darknet\\x64\\data\\, with filenames of your images, each filename in new line, with path relative to darknet.exe, for example containing:"
      ]
    },
    {
      "cell_type": "code",
      "metadata": {
        "id": "AGt8ES2ciAwj",
        "colab_type": "code",
        "colab": {}
      },
      "source": [
        "with open('/content/darknet/build/darknet/x64/data/train.txt','w') as f:\n",
        "  for i in os.listdir('/content/darknet/build/darknet/x64/data/obj'):\n",
        "    if i.endswith('.jpg'):\n",
        "      f.write('/content/darknet/build/darknet/x64/data/obj/'+i+'\\n')"
      ],
      "execution_count": 9,
      "outputs": []
    },
    {
      "cell_type": "markdown",
      "metadata": {
        "id": "jNSrsSTBjGnL",
        "colab_type": "text"
      },
      "source": [
        "Download pre-trained weights for the convolutional layers and put to the directory build\\darknet\\x64"
      ]
    },
    {
      "cell_type": "markdown",
      "metadata": {
        "id": "BZ9ZUzadj2oM",
        "colab_type": "text"
      },
      "source": [
        "build DARKNET"
      ]
    },
    {
      "cell_type": "code",
      "metadata": {
        "id": "Q-630wpk31Ot",
        "colab_type": "code",
        "colab": {}
      },
      "source": [
        "%cd /content/darknet/ \n",
        "!bash build.sh"
      ],
      "execution_count": null,
      "outputs": []
    },
    {
      "cell_type": "markdown",
      "metadata": {
        "id": "y_jk-jAi2qbK",
        "colab_type": "text"
      },
      "source": [
        "UPLOAD THE YOLO TINE PRETRAINED WEIGHTS to /content/darknet/build/darknet/x64 - yolov3-tiny.conv.11"
      ]
    },
    {
      "cell_type": "markdown",
      "metadata": {
        "id": "7O57m8170o3g",
        "colab_type": "text"
      },
      "source": [
        "Start Training the weights will save at the backup folder"
      ]
    },
    {
      "cell_type": "code",
      "metadata": {
        "id": "AQvs3pS5jIof",
        "colab_type": "code",
        "colab": {}
      },
      "source": [
        "!./darknet detector train /content/darknet/build/darknet/x64/data/obj.data /content/darknet/build/darknet/x64/cfg/yolov3-tiny_custom.cfg /content/darknet/build/darknet/x64/yolov3-tiny.conv.11 -dont_show"
      ],
      "execution_count": null,
      "outputs": []
    }
  ]
}